{
  "nbformat": 4,
  "nbformat_minor": 0,
  "metadata": {
    "colab": {
      "name": "VibrationsInAQuasicrystal.ipynb",
      "provenance": [],
      "collapsed_sections": []
    },
    "kernelspec": {
      "name": "python3",
      "display_name": "Python 3"
    }
  },
  "cells": [
    {
      "cell_type": "code",
      "metadata": {
        "id": "skoOeE0REzJx"
      },
      "source": [
        "# imports\r\n",
        "import numpy as np\r\n",
        "import matplotlib.pyplot as plt\r\n",
        "import random"
      ],
      "execution_count": null,
      "outputs": []
    },
    {
      "cell_type": "markdown",
      "metadata": {
        "id": "ePMwTUhCDA5B"
      },
      "source": [
        "# Vibrations in quasicrystals\r\n",
        "\r\n",
        "## Background\r\n",
        "Quasicrystals are a solid material that lack periodicty, but are still exoerience symmetry. It might be best to thin of it as having areas of symmetry. As you expand fruther out, the area that you are viewing because less and less symmetrical to the point that there no longer is any symmetry whatsoever.\r\n",
        "\r\n",
        "The goal of this project is to model the phonon inducing vibrations within a quasicrystal, as the lack of periodicity makes it much more difficult compared to a regular crystal. This is because the links or 'springs' between the atoms are not all identical."
      ]
    },
    {
      "cell_type": "markdown",
      "metadata": {
        "id": "e5PuZDXpENYO"
      },
      "source": [
        "## Building the Quasicrystal\r\n",
        "The quasicrystal is to be built by generating a points of symmetry.\r\n",
        "\r\n",
        "Two functions were created one to create the quasicrystal at that specific phase, and the other to geneates a list of the images of the crystal at the different phases so the movement could be modeled."
      ]
    },
    {
      "cell_type": "code",
      "metadata": {
        "id": "F80IqFhGELiM"
      },
      "source": [
        "import numpy as np\r\n",
        "from math import pi\r\n",
        "import matplotlib.pyplot as plt\r\n",
        "import time\r\n",
        "\r\n",
        "def pattern(pw, stripes, N, phase):\r\n",
        "    crystal = np.empty((N, N))                    # Generates an empty nxn array to make a square image\r\n",
        "    l = np.arange(-N/2, N/2, dtype = np.float64)  # Creates an array within the bounds of the image\r\n",
        "    \r\n",
        "    xv , yv = np.meshgrid(l, l)                   # geneartes an x and y grid that's lxl\r\n",
        "    theta = np.arctan2(yv, xv)                    # finds the angle between the two girds\r\n",
        "    r = np.log(np.hypot(xv, yv))                  # finds the natural log of the magnitude between the two grids\r\n",
        "    r[np.isinf(r) == True] = 0                    # if the magnitude is too large that specific one is equal to zerio\r\n",
        "    \r\n",
        "    tcos = theta * np.cos(np.arange(0, pi, pi/pw))[:, np.newaxis, np.newaxis] # geneates the shift of each point\r\n",
        "    rsin = r * np.sin(np.arange(0, pi, pi/pw))[:, np.newaxis, np.newaxis]\r\n",
        "    inner = (tcos - rsin) * stripes\r\n",
        "    \r\n",
        "    cinner = np.cos(inner)\r\n",
        "    sinner = np.sin(inner)\r\n",
        "    \r\n",
        "    crystal[:] = np.sum(cinner * np.cos(phase) - sinner * np.sin(phase), axis=0) + pw # is the summation of the arrays, generates an RGB value at each point\r\n",
        "    return crystal\r\n",
        "    \r\n",
        "\r\n",
        "\r\n",
        "def generateMomentsInCrystal(fig, phases, pw, stripes, N):\r\n",
        "    images = []\r\n",
        "    for phase in phases:      \r\n",
        "        images.append(pattern(pw, stripes, N, phase))    # creates a list of images each at a different phase in order to show the tranisitons\r\n",
        "    return np.array(images)\r\n",
        "\r\n",
        "\r\n",
        "\r\n",
        "fig = plt.figure()\r\n",
        "plt.xticks([])\r\n",
        "plt.yticks([])\r\n",
        "\r\n",
        "pw       = 11    # number of plane waves, should be an odd number\r\n",
        "stripes = 25 # number of stripes per wave\r\n",
        "N       = 512  # image size\r\n",
        "ite     = 10   # number of phase shifts\r\n",
        "phases  = np.arange(0, 2*pi, 2*pi/ite)\r\n",
        "\r\n",
        "\r\n",
        "\r\n",
        "\r\n",
        "\r\n",
        "images = generateMomentsInCrystal(fig, phases, pw, stripes, N)\r\n",
        "\r\n",
        "for i in range(0, len(images)):                     # plots the crystal\r\n",
        "    time.sleep(0.5)    \r\n",
        "    plt.imshow(images[i], cmap=\"RdGy\")\r\n",
        "    "
      ],
      "execution_count": null,
      "outputs": []
    },
    {
      "cell_type": "markdown",
      "metadata": {
        "id": "hRbh7l8lHEPa"
      },
      "source": [
        "## Applying the Equation of motion\r\n",
        "The equation of motion used will be"
      ]
    },
    {
      "cell_type": "markdown",
      "metadata": {
        "id": "0F-f4pSPHx9P"
      },
      "source": [
        "![image.png](data:image/png;base64,iVBORw0KGgoAAAANSUhEUgAAAuUAAAA9CAYAAAAKyBeVAAAgAElEQVR4Ae2dZ9cURROG/Ql+5Ff4QQUjRhRzTiCICRNiFjOKEQVBD2YxYMKICVEUMWPOqAcVFRUVUVHMxzDvuea1ln6ayds7O/tw1zmzszPT0+Hu6urq6uqetSKREBACQkAICAEhIASEgBAQAl1FYK2upq7EhYAQEAJCQAgIASEgBISAEIiklIsJhIAQEAJCQAgIASEgBIRAlxGQUt7lClDyQkAICAEhIASEgBAQAkJASrl4QAgIASEgBISAEBACQkAIdBkBKeVdrgAlLwSEgBAQAkJACAgBISAEpJSLB4SAEBACQkAICAEhIASEQJcRkFLe5QpQ8kJACAgBISAEhIAQEAJCoI9S/uabb0bDhw+PBgwYEK299to6hIF4QDwgHhAPiAfEA+IB8YB4oCAPoEOjS6NTl6WWUs7LUsY1ENFgTDwgHhAPiAfEA+IB8YB4oD0eQKcuq5i3lHK0eipgzJgx0XfffVdWuVf4NhH4559/ogkTJkRXXnllmzHpdSEgBISAEBACQkAICIHQCKCjoa9lETo0ujQ6Nbp1GWop5WYll0JeBr4wYangyZMnRyNHjoz+/vvvMJEqFiEgBISAEBACQkAICIFgCNxxxx3RfvvtV0gxRylHty5DLaXcpinKvKyw7SOAQn7XXXdFo0aNkkLePpyKQQgIgTUAgX///TdatGhRdNJJJ0XLli1bA0qsIgoBIdAEBJA948ePjzbddNNcna2KXi2lvMu1/O6770ZDhgyJlixZ0uWcKHkhIASEQPMRoFO86qqrYle/xx57LDr33HNjBb35OVcOhYAQ6A8IrFixItpnn32ik08+OUIepZGU8jRkGnofV5XRo0fHnUtWxTY0+8pWhxD49NNPozPOOCN65513cqfIOpQFRSsEYsX3lVdeaRwSkyZNio488shWvu6///7o4IMPbl3rT28jYPIPg1We725vl1S5bxoCP//8czR79uzoiSeeyOW9F154IVpnnXWi++67L7UYUspToWnmA9xWtt566+ibb75pZgaVq1oRYGA2c+bM6IorrohmzZoVbbfddtHYsWOjpUuX1poPJSYEFixYEHc4L7/8cqPAoI1gnXLX3px11lnRjBkzGpVPZaY8AmnyD0WpacRMzS677BK7T/Ff1PsIvPfee9GJJ54YMfuGUWynnXbKNJjCr+PGjYv23XffVAVeSnkP8QWdCosFLrnkktQK7aHiKKsBEIAnWFtgQh6LESPxY445pjE88tNPP0XPPPNM3Bk1TWELUAWKIori6dhDDjmkkUo51lPaxKOPPhqfseRzLYtq77NumvxDHjapfskLO3CQX/J29dVX9z74KkE8sD/zzDNb7ii4xQ0ePDhauXJlKjpPPvlkLH8wsCaRlPIkVBp6j0qkM3n99dcbmkNlq24Evvzyy3jmBMFgxLQ8fMKovNtEHsgLlnzOUsq7XSOdSf/GG29sKb1Nq+Nhw4ZF8+fPj3erYpHn2WefHT388MOdAUKx1oqAL/+QN8g/jibIPwODvAwdOjQiv6L+gwD9rtvXIvvy+jl4gS0P06zlUsqjKG4oTL0+/fTTsV8QFhX/mDNnzmr33DBPPfVURBydEgSMtEeMGBFhjapiASBfVfPGe59//nn/aUk9VhKsKll1jvXFJTqkiRMnure6/r+IsErKJOVGoRJ1B4FXX301+vHHHzMTxxLNlCx8mNchZUbUgYfILvJE3kz+ffHFF7F/ud9u0pKX/EtDpp77ZeUf9T1lypR6MlciFfLkWlWLvCr5VwSlzoUpIv9cOQKvwn/ff/99ZqZuueWWOFyScSCIUo7Qgnk425GmRFhYC5+Z85oeMq0EkBzTpk2LrXpY9tKOU089NcL6ssEGG7Tes/cR+J0gfMhJY/r06aWiB+fLL7883pSeM24EZeivv/6KBg0alLkwoUx8ClsegYsvvjie+kxrU26MuK/stdde0bfffuve7vr/Kko55aVtwrfIDVH9COAzyY4BaYNy6uWII46Ifvnll7gPQEY1yVK+fPny6KCDDuoDHF/L23DDDfv4mPcJ4FxI/jlgdOlvGfn30UcfNVL+vfXWW/G6BtrHI488UghJyb9CMHU0UJ78cxOnvvj4D7OGef0Vcgm9Cj90P2wQpZwRIPsv4u+MAEQpQGH1hfMFF1wQ+9vsv//+cbjdd989YlP1bhOgHH/88bHSS97zLEOEpwI4Pvjgg+iyyy5rKej4e3eC5s2bF+ePFb5FifztuuuurXq49957IzDn/qGHHhqhwGUR4cAFxUjUPQT4ONfOO++c29hN8X3ppZe6l9mUlC1vvkxICR7fhu+OPvroQspTVjx61h4CGAKYffn1119XiwjL0N133x3LFNdS7nc0q71Y0w0UIJ/n7rzzzngdRl4eJf9qqqScZIrKP1sz4Nd3TvQdf2xrGthx45RTTokOOOCA1RSxpExI/iWhUv+9LPlnuUGW4Bp32223xbLQ7qedCb/33nvHOh1yxqUgSjmRvvjii3ECjATZbop7vtDjHs8IgzCnsflh3MzV+R9fL1ZGk7eLLrqodL74KAVbbrH7BVajkARGl156aZy3xYsXF4oarE844YTY8m8vEA/le/DBB3P3yuQdhMJuu+0WsVBP1F0EqDPqDgGfRAwk4d+FCxfGvAs/NqVtkd+ySvnXX38d+8qzhZSouwjAR7jNnXfeeX14yuTJ5ptvHu86gFEGHj322GNXs053qwQTJkyILrzwwlbyWFIxTLB1aB4h/4466qhCnWxeXHreHgJF5N/2228fYdmELzFMNEH+0Q8zoLWBAvmijXA/iyT/stCp95nJv3POOSeRp6hLLN54UPCfurb6zsopO0LBCxh2XQqilBMhmdl4443jRB5//HE3jdZ/CofCW8S833qpxj/4lAMSxz333JNYAVnZ+eSTT+J3y1izs+KzZ2DLogCmXIsKmiQliHcHDhwYnXbaaVGemw3TK2y9iO+TqPsIUHcjR46MUDJ8HoA/2JaJxs0zrlE8/HBlSoHrVhHBUjTOJH5Me5d8oxAxS0NZRN1HAGMKyjdywSXqxw5cPZCdKB7t1Bu8cvrpp7fFv+QRPmJWFgsWsoxZF9oF8eflD/cv3tGiere2u/efuiwj/+DVJsi/N954I57lNH6jbTB4zcobzyT/usdrSSmbMTnJKIYxlh2dqGPqjq1Wi/Sd1DHykgGnS8GUcjKDVZVE0vyemUrcZJNNcgWim8E6/1MG8k4ZUF6LAOvn79Zbb4190f377Vz/8ccfcZ5ozNa48+KzCmc2wojy0SnxLI9uvvnmOM3PPvssL6ie14TA9ddfH9eJa+WjTlE64Fn3YNTeDk2ePLkS/6elSVsif0Xa1O+//x53ZGlyJC0N3e8cAixcov5uv/32xETef//9uGMiDLMbKB9VCR7BDRLeboeQlbYrET69Dz30UPTDDz8UihL5t8UWWxSWt4UiVaC2EKhT/mE8LCKr8gpEX4ul3Aj3Vtxds3hb8s/Qas7Z5B/Wcpdw3XP7XfufZ/QkDoy3hPf5IahSzoIfEoGhfSKTO+ywQ/T888/7jxp1TWPBkkw58C93ldpuZfSrr76K83PccccVzsKHH34YD4CYroXooNjgfscdd8zdJxUMsErk+b5lCZbCGe1yQMrQK+XARQW+RLkwYnU4gj/psDBVzueff36QTsnSdpXyPLyZaaOc7uDD4rFzL9Wb5dk/91oZUJSZpk0yDLD3MgoHLi7wDotzq1IopZx4sHCVJeoF+ceirSxezXpWNs1uhe8lHqxL/oEJylcIpZwF0kOGDIn5iHaDDpS3CF/yr1utITtd5N8ee+zRR/4h95L63iKyAYMn/ZzvFhNMKac4CGQSYTGDnymm3fmgiX8/G4buPKXRoJBTFr781u084ydHXtiYvgzRIR1++OFxWagbFouy+wrWcqyracTX0EjvmmuuSQyCcGFBw2GHHRa7+biBWOyF6w+DgiYTZUC5pZxMP61YsaJPdtkCE3emJhF8OHr06Ojaa6/tOE9iYQzRKZFnppIRaKy3YOCOK1Zam+I+Qo6ZKnerKasH6g0eRjlkkbhfb88++2z8ZVML39Qzltvx48fHiuzcuXP7ZBMDBhgklb9PwJovsFTiDoKbSicJK3sISzltu4jFyi+LyT/Km0Qm/zDeIOtc6i/yj0WTa6r8o36ZaQwh/+ANZs+RffAjH45Jk33GR3nyj3ohPsLhNuGS5J+LRtj/yAP6pT///DNIxPAZPOF/6C+oUn7TTTfFiaCskaARCg5uK3kjRAtvZ7YBpGFUOSyOqmcs+gDG0e0dYp577rk4HzTCsoQA8Dv3PKFAp0i5k6aqeRc3GhZPMUrEzx1LvhF1zbuuNdeeNek8adKkWKiZH6zr18WiX8rAwCUPq7rLxOJdPn7itq9O5IFFKKE6JTDkIM/2Py3PhEEhY9FqEvYoCzzPqjc61KR309Ks+z4DVviLsjC17bqlkW+2gON5UVeLuvKP++F6660XMb3eSYLvQijlVfNo8i9p6zr4k/pio4Ik+WcLEiX/qqKf/h5tow75RzrMSoeSf5SIODnyqKz8c9d8Wb/Vy/IPfJos/5DLoVx60cuIj1k56t0oqFJuPjKM4iwRGBGTv8s8lnjeGYsYC9iSDhqn3ccK7B5Mn7ZL5JsFqYDGgAKfyW4RG8yTj5kzZ9aSBToj0kvqWPiqKIMv8DF3JVaKQ9xraoNygWOf4i233DIerMBjlNXdxN/KnzQoceMJ+R83FPDLI6yrKHL+QCvvvbLPaVshO6Wi6VMutvGEt3xCplBXhLF6cweqVm/dHkT7+favma5kFss6YMpr9ck9rNF1+jN//PHHEfyXR7Qb8GfmrpPUbaXc+Ijy+pQn/6g7MGragMotR5PkH/yO5ZeBXlPkn/Vtkn8u14T7j/ybNWtWXN8Mvl35B/Z1yT94D/dkBtf8z+M/k3/sNBiCSBNZsdNOO7X0ZeINqpSz+wOJcNi2gPgZ9orbig80oNm2Nf4Ugx+2k9f29aciu7pghWM/8jKHn3em26hDvlLqE8oaabDHOWHY79yYGbxoUOZD57/bzjUCsuyRlh7xsJCRfGPx32ijjaKVK1e2gjOoo2z+VkWtAIH+MKtAPaFkF7UMYuEHX7AOQWmYMuhF+CQ9L7KIryr/US6+eYC7m09M1YKV1Rt1hHJuZPWWtELewlQ5U94kHLLuZaVDGSgnCyIpw9SpU1ttyNaPdNraBZZMpTOoIQ+UJY+WLVsWh3VnlfLeyXqehit8R3tIe57H+7TbqvxHfk3+UV6fsuQfHTxYNkH+ZbkPUtcm/1j/hfzDZcfI2lGn5R++02w5iavc+uuvH38VdunSpZaNxHNd8g/+k/z7fxWktcNeln/IEOQubZ1ZL3z92XEsi0z++S5rWe9kPSMPyAt/85OgSrn54pHQ22+/Hfvz8RGh0J1kVkFDP1uyZEm8OBLgOm0hSsu7dZxFFskijFnMWebw073hhhtiZslKzzoudwYErKh7/H1DEotlEJJljiJ5+O233+Jtz1CArKNH4WN6mnLYvZBlcePCPQaBZ+WywY0bxv/PAjryZpZV/3mZ6yxcbaBgeXPPKCZ5BP5FeJC1CS5RLlyiEJhpRL1gXWDdh9WR1Rudu91Le7/sfcrilr/If6zPWUR+4Tvq0rXI1uX+gFLOrBZ7O5OHIko57YWwaWtNssqb9CwL1yz+y/MTR5kswnsWxs+byb+kjyVZ2CT5N3/+/BifIrLH4ilyzmqnabyYp2CQbjflH22U9Vo2eGCNBbyVZ8BD/uFC1XT5x7o646+ssz/7XVb+GQ6Sf0Va0qowbIABv+EaDNGn0e9n9cGh5R91Rx7WXXfdPn1WUKWchsaiLhJC2UCwpi2WWQVP+j9GzVmjsaxn6bGWe0KZUJ74Gle3yJRydk+pg8yCl5YejIvwpJ7dr4IyguSe6wpCfglvzM4ZZrTrouWxOMqc8+Lmy37k192hge0nEfr4efl5dK/hC44QZB2rG39avGbFMmGcFq7o/TQ8+VgV7SvtedH4y4YD0wMPPDCeoUp71xY+uwNCqzew9HF0r/lPGu69tHTsPmHLHvZu2pk8DB48OF6wZXxEGqao++4PPHPD8d+u09Iocn/o0KFxGyiilDPQoL2EshSlYUpeqEfKlxSmSLnaCWPyL21gRZ6S5B8LsNck+QcOVYm6xc2Vr3wb4caA8SsrXuTftttuG0QpJ90k/iJv8F+35N+oUaPWePnHFoQuUU8m7+y/Xbvhiv7ng4jop7ZQlg0x8pTy0PKP/CMv/JnvoEo5YA0fPjxOaMGCBfFX4NoB7oEHHihtoaIx8eGJEETemVqrY7eLrPyaUs6emHWQTaGnpQcufFiDw+qXuh83blxc9ygUWPwQuIxIhw0bFu9hj5JPnAhewoZaMFEFE/JruLqdLx8LoaEwvUvZaLgQXzSkI+Y+A046EKy1+KO1S/AsB3nKI1PaDPe88FWf49ZTRFGrGn/aeww2mFIfMWJEWpAIv17qiHow4iMd3DNXEKs3ztyfOHFi7DeN1QrrcIh6s7SrnO1DY7QDI+oURZ3vPfAf/iSfbA3JzksMFFn5zxQ+ZULOtduG6BCIq0hds7MDYbEId5JMKS/SHjqRD5N/rmuUmw51kyT/+NgV+Ljyj04fXqZOe03+sQWh345sgTULsduVf8wAuC5CpMWONlmE/KM/6aT8g+9MKc/KSyeehZZ/rK9hRoy1SMwggV1T5R+41y3/qEPkGS5ceX1CaPlHXSMv9t577z78HFwpZxqAhLB2tesQTyVVPdptMKSLAoZSzv9ukimPLDytQrgSMaVK515EmMEsWNDS0iMOFkq6whEXJRoULgXgxdfzmF1gGpX0UWoHDRrUcgHiPlPA3SLyaFPQtlCVvBjW+Nuy+I2pbNZHUFaUBXgbpZD3uXYHJlXLYkp5Xt2QJnsnY2HifyeJHV6KKGpl84DCkhUv5QLfrbbaKrWMVm/umge/3ujgqTfc56hH6o1BYsh6K1t2Nzw8R56QMUa2kIhBCW0QnsNqS1lMQcKKBp9wcL/dNgTO5MMd4Fh+/LPNLLmzY36YENfwR9FBapH0wAqc4Ku8NkZ8Jv8obxIRR1H5hwWO8lBXTZd/tA23HbGGCUME0/Ym/ygH601CtyPaMnyYNeAjTeQfeeJ/p4i4Qyrl8Av9SBH+I+125R+DSeqJARSbbJj8YzMM4ocfQ/Rb7eDfBPmHMY41cPSnuFHS7rMotPyDL+B5f7fCoEo5BbLdN+hsOtlwssBr9xn5RqGkwugMyxDvuuUGeA6I++510XjtYwJYyMoQ6bHgCQWY1c4w39ixY1t+fGlxkUeUauoyiYiXBbAoPAgAFizS4cBcpIFQgdmIh0UUhEdZt4WqXLNX9ezZs5Oir+2ebXtJR4SfKv6KCDPyjuDi40ncR6hxjbLEoNPqk6/+see7XZNxBGHe4RfQlHJwySLSwTqFNclNM+udqs+w4FLmkESeUWby4sW6SB34LhyWF7/epk2bFu/fzjsMPuFxthuk3pixmTJlSnzf8E2qN4u7rjNYwEvsMoNfLQtb6UA322yzOK+mHBGONmTrNcz/nPtYd9x1H3QqZXkP65Dxe17Z6dRp36TRSYI/Qinl4MRidPgBAwvKCNgaLySVg3fWRPlHO6GvMH7A8m9fau2k/GPr4yJfmqZekH/IYf53iuCNUEo5+cQgRR9ZlP/akX8MrpF/uGSyRSLyQfJvVZ/s8wx1zYEc5HslWTOPoeUfRiPamv9dn+BKOcyAOb6sMuuD1c1rXG/ofKqsPkf5NesVFU0ngHK3aNGi+EMhfFIVhdT/6ElWeW2nE5TerM7Ej4NOmv1WbVrG4iE/WUKNZ/gUu5ZwP27CsHUYyhvxI7TZfQDlAsXWFvDwHqNid2Rui3qYwu82sR0XdYIrANZxysWOQQhlppsNJ850CCh0ENcoVUwLusT9rCNpNF5UKTdlNJRPr5tv/z8CKE959t/JuoZvidM6/KywtosFHVkaMRi0eoP/wJwzWKJ0cQ1xpg0wULRrq7cybSl+OfAPvEBdopBgqWEqHx5ESLuDP5Il/9tss02r/eOuw44BVk4rG9dZh18EMCtSJ2CFTGRxnpumH1+I65BKObKYgZr5qOIGlFdeyhdS/rE2qhfkH1Zqym7yj4GMEfc7If+IF4ONzaqjkKbtwFKX/IPXQynlGAaS+I92nkZV5R9yb+edd5b8y5CBhjnfzLGvnXPPtvNOWzvYCfnHgBdZhGul2xcFV8qJ3E3AQOiVMx0CQOFbXJYQMEyt4SsHoZxyj/joZMGFa+7TgIoSlim2icPKWAZbwpI2I3QjswTnxYM7Cu+6rh0Wh52Jw48n6R6KB1tfUXaIFecIPZSSrC+LWjqdPvt59q9Jn04dPBhQQCY46bi4jzWzKhVVyqlHpsOTFPuqaae9F1opZ8aGegerPGUf/Gkv+LVnkV9P/jXvwnMok369oYDMmDEjwk+wm0T+yLdL/jXPwAN/WguP0shAcvny5aVkiZsO/4sq5SYXcafpNIVUys06idUQsnLk8SCufqHkHx19f5Z/8FASz+bxCbyMdRIZyvtc43ufFldd8o/0Qynl9AsMyIz/zAoOZmlE+pJ/fdEJLf9wZaR928wjs/Zcp+l9JjdCyj+MTqTpblhAqYMr5X2h7K0rA96dEi5aAgQKjON+nYn4zDq9cOHCOCrCseUbQr8o8Q5+fFRg2a+i8q4r5FDKGZnlEe9g9TbLcF74tOfEg6USJcLIBiVg4PoF2/Mmnl977bVozz33bA0smCZkUTMKMqu2wbksgQ2HKeUMvtLiQajj2pBlYSmbflZ4XEfIWwjCd89cbuDhPIWINOmomVFq9+uRNitj302wNm4DwjS8Q5Q7VBzUA4Ny92Ne4AgPspCLmb0qRNldpTwLC4wIuHTUMSCkLKbEVCmX/45bLjADO7Oc+2HtGsxDyT9mE335h0sBinqvyT+TCa78Y0cUF2PDMOtMPPQDuHaMHj06NjaABz7jSXGZ/MvyOc9Kr+wzrPVW1rLv+uHd8hj/5a3LkPxbhSL1EFr+4dHBgMm2PUW+4a6VJt86If9IH1nkf5hSSvl/dQ8wLG50t8dbxRar/4NROHBxYdtHFDYA9l0LmD51F60xMmM1vttQV4+97x3SofMl/ioDBovNBghF941n6zl8xW1q0eIpe0b4up0PiiWCHOtpGRzKphsyPA2IxY/UBcSZhkrdVy0DCpHtVkTdYiVKs6CQ9rHHHpsqNEKWNWRc4MT07eLFi2PMKGcRpZz38I1sB1/KQb2hAPn1xl7bVestJD5F46INuS5vuF1Zu7KyFY2LcLzD4BxFG/eZgQMHxv+T4sJVhr1061KIypSjTFjqG9c9+yJx3rudkn/wP3XH7mK9woNp8m/69OmVygCf4X6GxZIZH+QeBzI1iXpV/rllKcN/4IP8u+666yrha+mmyT/u9wrvUZZOyD90M9aboJ9hOGTXpSTqhPyjfjFU4f3gDwSklP83xc3CRRa5ZB0IET4Ry4gK6yajN5QM93C3eAJ4pueYdoa4xvqCawCLW9IEUBJj2HRq2o4oSe+498xCWPZrfLyHz5/7xTc33qr/waLXqa4yzJ07N1bYsxahNBVLBrk20ACvoko55cFFiEELVqOQVFe9hcyzHxdlqKMcdNxYMt31FX5eeuUaVznKUkYZkfxLr906+I/Ue1n+ueihWJbhP2ZzJP9cBFf9DyX/iAd5kCYTOiX/iJdtlZlFk1K+ql5b/1COzYWgnTPbQLqVS4WjhPjTzvgYcr+MPyvx8tEEpvvKCkMW3bKvLC40vMui06JxEA7LOgMJUXcQYOE0ddZrBM+yJy6Ch8EoU/jwvQ18i/Agri+Uv0jYXsOnF/LLgAplotfxx2/Tdu1A0eYoQpJ/RVDqXBjw71X556IC/7HIGJnIAkNfEXPDuv8l/1w06v/fKfln29/6/uSUUJby/yzYNP6sg8aU9dye+WyDdYZnRvPmzYsVa9sNwu7nnYkDxYZpZCyIRYl84+uOmw1xcM10tZunonEpnBAogwA8ZgoQZ/OnxB2Ka/FgGTQVtioCzLSwT7TJcNxXiirlVdPUe0LAEGCWydzwkHn8T1tQaO/o3L8RYBMDDFRJawullPdQ3duOKPhiFyEEAIMCKt89zJ2mSBwKIwRCIAAv2s4DKEQoSCIh0GkEcH1wZZ/9tx2yOp2+4l+zEUAhN55zz+K/NZcv6PvYXhQja5JhSkp5D/EGlUlFsjihyPQXFY5rTtLRQ8VWVvsBAraIi7Ub7IPcH1wi+kG19PsiGN/5MjCpM+z3YKiAtSMg/qsd8sYniLcEA7QkKzmZl1Le+Crsm8Gy1vK+b+tKCAgBISAEhIAQEAJCoG4E2IKRrX7TrOTkR0p53bXSZnpYy/kcPFvp9OLivzaLr9eFgBAQAkJACAgBIdBzCEydOjUaMmRIvPteWuallKch0+D7KOZ8sIZ9qzUN2+CKUtaEgBAQAkJACAiBNR4BNjjAbSXvA4BSynuUVfAp32KLLeKPC/RoEZRtISAEhIAQEAJCQAj0awT4Lg1uK6xtyTOktqWUDxgwIPZ/KbNFX79GvubCoZgz8tL2XjUDr+SEgBAQAkJACAgBIZCDAJ4N6Glz5szJVcjRpVHK0a3L0FoWmK9NEcGYMWNK7Z1t7+vcPgIo5nkjr/ZTUQxCQAgIASEgBISAEBACZREooqehkKNLo1OjW5ehllLOV4nMWm4md53XjkEVDsJBPCAeEA+IB8QD4gHxgHigKA+gU6Nbl6GWUs5LvIxWL+VcTFeU6RROvCIeEA+IB8QD4gHxgHjg/zyADo0uXVYhRw/vo5SX0eYVVggIASEgBISAEBACQkAICIEwCEgpD4OjYhECQkAICAEhIASEgBAQApURkFJeGTq9KASEgBAQAkJACAgBISAEwiAgpTwMjopFCAgBIbQXn44AAACdSURBVCAEhIAQEAJCQAhURkBKeWXo9KIQEAJCQAgIASEgBISAEAiDgJTyMDgqFiEgBISAEBACQkAICAEhUBkBKeWVodOLQkAICAEhIASEgBAQAkIgDAJSysPgqFiEgBAQAkJACAgBISAEhEBlBKSUV4ZOLwoBISAEhIAQEAJCQAgIgTAISCkPg6NiEQJCQAgIASEgBISAEBAClRH4H4mbaKdi++CZAAAAAElFTkSuQmCC)"
      ]
    },
    {
      "cell_type": "code",
      "metadata": {
        "id": "vG4FnHuRHBTr"
      },
      "source": [
        ""
      ],
      "execution_count": null,
      "outputs": []
    }
  ]
}